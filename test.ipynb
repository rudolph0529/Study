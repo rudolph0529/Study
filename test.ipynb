{
  "nbformat": 4,
  "nbformat_minor": 0,
  "metadata": {
    "colab": {
      "provenance": [],
      "authorship_tag": "ABX9TyM2ptnoxUjdCPARxcUkkCAe",
      "include_colab_link": true
    },
    "kernelspec": {
      "name": "python3",
      "display_name": "Python 3"
    },
    "language_info": {
      "name": "python"
    }
  },
  "cells": [
    {
      "cell_type": "markdown",
      "metadata": {
        "id": "view-in-github",
        "colab_type": "text"
      },
      "source": [
        "<a href=\"https://colab.research.google.com/github/rudolph0529/Study/blob/master/test.ipynb\" target=\"_parent\"><img src=\"https://colab.research.google.com/assets/colab-badge.svg\" alt=\"Open In Colab\"/></a>"
      ]
    },
    {
      "cell_type": "code",
      "execution_count": 4,
      "metadata": {
        "colab": {
          "base_uri": "https://localhost:8080/"
        },
        "id": "LHjiJeAPN4Jc",
        "outputId": "0290c73f-1536-470a-b05d-0e00c4585f5d"
      },
      "outputs": [
        {
          "output_type": "stream",
          "name": "stdout",
          "text": [
            "안녕하세요.\n",
            "반갑습니다.\n"
          ]
        }
      ],
      "source": [
        "'''\n",
        "개행문자를 반드시 써야함.\n",
        "안녕하세요\n",
        "반갑습니다.\n",
        "'''\n",
        "\n",
        "print('안녕하세요.\\n반갑습니다.')"
      ]
    },
    {
      "cell_type": "code",
      "source": [
        "# 오답\n",
        "print('안녕하세요.')\n",
        "print('반갑습니다.')\n",
        "\n"
      ],
      "metadata": {
        "id": "eT0LeX8MOExi"
      },
      "execution_count": null,
      "outputs": []
    },
    {
      "cell_type": "code",
      "source": [
        "'''\n",
        "a 는 라이언이면 1을 출력하고, 그렇지 않으면 0을 출력해라.\n",
        "a는 -1로 초기화 할것\n",
        "'''\n",
        "a = '라이언'\n",
        "\n",
        "if a == '라이언':\n",
        "    print(1)\n",
        "else:\n",
        "    print(0)\n",
        "\n"
      ],
      "metadata": {
        "colab": {
          "base_uri": "https://localhost:8080/"
        },
        "id": "8N3DnZUKOTUi",
        "outputId": "757ea577-e61a-4da9-a7c5-5008ec955e97"
      },
      "execution_count": 5,
      "outputs": [
        {
          "output_type": "stream",
          "name": "stdout",
          "text": [
            "1\n"
          ]
        }
      ]
    },
    {
      "cell_type": "code",
      "source": [
        "# 오답\n",
        "if a=='라이언':\n",
        "    print('1')\n",
        "else :\n",
        "    print(0)"
      ],
      "metadata": {
        "colab": {
          "base_uri": "https://localhost:8080/"
        },
        "id": "sRflOdggPJxU",
        "outputId": "c6b535d7-c4c6-499d-fadb-9049ce64b343"
      },
      "execution_count": 6,
      "outputs": [
        {
          "output_type": "stream",
          "name": "stdout",
          "text": [
            "1\n"
          ]
        }
      ]
    },
    {
      "cell_type": "code",
      "source": [
        "# 현재 작업하고 있는 경로와 동일하게 abc.txt 파일로 저장하기\n",
        "def func(a,b):\n",
        "    a,b\n",
        "    c = a+b\n",
        "    print(c)\n",
        "\n",
        "func(1,2)"
      ],
      "metadata": {
        "colab": {
          "base_uri": "https://localhost:8080/"
        },
        "id": "9K7wCsy9Pl7-",
        "outputId": "73bca6f6-f7a5-422f-f904-1bd4a2a6686e"
      },
      "execution_count": 13,
      "outputs": [
        {
          "output_type": "stream",
          "name": "stdout",
          "text": [
            "3\n"
          ]
        }
      ]
    }
  ]
}